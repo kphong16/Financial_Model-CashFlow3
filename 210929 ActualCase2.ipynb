{
 "cells": [
  {
   "cell_type": "code",
   "execution_count": 1,
   "metadata": {},
   "outputs": [],
   "source": [
    "import importlib\n",
    "import pandas as pd\n",
    "from pandas import Series, DataFrame\n",
    "import numpy as np\n",
    "from datetime import datetime\n",
    "from datetime import date\n",
    "from datetime import timedelta"
   ]
  },
  {
   "cell_type": "code",
   "execution_count": 2,
   "metadata": {},
   "outputs": [],
   "source": [
    "import cafle as cf\n",
    "from cafle.genfunc import rounding as R\n",
    "from cafle.genfunc import PY"
   ]
  },
  {
   "cell_type": "code",
   "execution_count": 3,
   "metadata": {},
   "outputs": [],
   "source": [
    "# import cf.management as mng\n",
    "from cafle import management_actualcase1 as mng1"
   ]
  },
  {
   "cell_type": "code",
   "execution_count": 4,
   "metadata": {},
   "outputs": [
    {
     "name": "stdout",
     "output_type": "stream",
     "text": [
      "40 200\n"
     ]
    }
   ],
   "source": [
    "pd.options.display.max_columns = 40\n",
    "pd.options.display.max_rows = 200\n",
    "print(pd.get_option(\"display.max_columns\"), \n",
    "      pd.get_option(\"display.max_rows\"))"
   ]
  },
  {
   "cell_type": "markdown",
   "metadata": {},
   "source": [
    "# Introduction\n",
    "* Financial model for a development of a logistic center"
   ]
  },
  {
   "cell_type": "markdown",
   "metadata": {},
   "source": [
    "# Initial Setting"
   ]
  },
  {
   "cell_type": "code",
   "execution_count": 5,
   "metadata": {},
   "outputs": [],
   "source": [
    "class Assumption:\n",
    "    def __init__(self):\n",
    "        pass\n",
    "    \n",
    "    def __getattr__(self, attr):\n",
    "        return self.__dict__[attr]\n",
    "    \n",
    "    def __getitem__(self, key):\n",
    "        return self.__dict__[key]\n",
    "astn = Assumption()"
   ]
  },
  {
   "cell_type": "code",
   "execution_count": 6,
   "metadata": {},
   "outputs": [],
   "source": [
    "class Assumption_sales:\n",
    "    def __init__(self):\n",
    "        self.prdtname = []\n",
    "        self.mtrx = DataFrame()\n",
    "        self.csh = {}\n",
    "        self.ctrt = {}\n",
    "        self.ctrt_ary = {}\n",
    "        \n",
    "    def iptctrt(self, prdt_name, tmpary):\n",
    "        tmp_idx = [x[0] for x in tmpary]\n",
    "        tmp_locno = [idx.sales.locno(x[0]) for x in tmpary]\n",
    "        tmp_rate = [x[1] for x in tmpary]\n",
    "        self.ctrt_ary[prdt_name] = tmpary\n",
    "        self.ctrt[prdt_name] = DataFrame({'locno':tmp_locno,\n",
    "                                          'rate':tmp_rate},\n",
    "                                          index=tmp_idx)\n",
    "        self.ctrt[prdt_name]['amt'] = self.ctrt[prdt_name]['rate'] \\\n",
    "                                      * self.mtrx.amt[prdt_name]\n",
    "        self.ctrt[prdt_name]['odr'] = list(range(len(tmpary)))\n",
    "        self.ctrt[prdt_name] = self.ctrt[prdt_name][['odr', 'locno', 'rate', 'amt']]\n",
    "        \n",
    "    def print_ctrt(self):\n",
    "        print(\"Sales Contract Assumption\")\n",
    "        for key, val in self.ctrt.items():\n",
    "            print(\"\\n\\n\"+key)\n",
    "            display(R(val))\n",
    "\n",
    "    def __getattr__(self, attr):\n",
    "        return self.__dict__[attr]\n",
    "    \n",
    "    def __getitem__(self, key):\n",
    "        return self.__dict__[key]\n",
    "            \n",
    "astns = Assumption_sales()"
   ]
  },
  {
   "cell_type": "code",
   "execution_count": 7,
   "metadata": {},
   "outputs": [],
   "source": [
    "class Assumption_costs:\n",
    "    def __init__(self):\n",
    "        self.dct = {}\n",
    "        self.amt = {}\n",
    "        self.byname = {}\n",
    "    \n",
    "    def __getattr__(self, attr):\n",
    "        return self.__dict__[attr]\n",
    "    \n",
    "    def __getitem__(self, key):\n",
    "        return self.__dict__[key]\n",
    "    \n",
    "astnc = Assumption_costs()"
   ]
  },
  {
   "cell_type": "markdown",
   "metadata": {},
   "source": [
    "# Input Index Data"
   ]
  },
  {
   "cell_type": "code",
   "execution_count": 8,
   "metadata": {},
   "outputs": [],
   "source": [
    "# Set period index\n",
    "# prjt index : total project periods, and project base index\n",
    "# cstrn index : construction index\n",
    "# loan index : loan period index\n",
    "# sales index : sales period index\n",
    "\n",
    "tmp_col = ['idxname', 'start', 'periods']\n",
    "tmp_ary = [['prjt',  '2021-11',   27],\n",
    "           ['cstrn', '2021-12',   20],\n",
    "           ['loan',  '2021-12',   24],\n",
    "           ['sales', '2021-12',   24]]\n",
    "astn.index = DataFrame(tmp_ary, columns=tmp_col)\n",
    "\n",
    "idx = cf.PrjtIndex(idxname = list(astn.index.idxname),\n",
    "                   start = list(astn.index.start),\n",
    "                   periods = list(astn.index.periods + 1),\n",
    "                   freq = 'M')"
   ]
  },
  {
   "cell_type": "markdown",
   "metadata": {},
   "source": [
    "# Input Financing Condition Data"
   ]
  },
  {
   "cell_type": "code",
   "execution_count": 9,
   "metadata": {},
   "outputs": [],
   "source": [
    "# Equity condition\n",
    "tmp_col =  ['title',  'amt_ntnl', 'amt_ntnl_once']\n",
    "tmp_ary = [['equity',    1_300,        1_300]]\n",
    "astn.equity = DataFrame(tmp_ary, columns=tmp_col)\n",
    "\n",
    "equity = cf.Loan(idx,\n",
    "                 amt_ntnl = astn.equity.amt_ntnl[0],\n",
    "                 amt_ntnl_once = astn.equity.amt_ntnl_once[0])"
   ]
  },
  {
   "cell_type": "code",
   "execution_count": 10,
   "metadata": {},
   "outputs": [],
   "source": [
    "tmp_col = ['title', 'amt_ntnl', 'amt_ntnl_once', 'rate_fee', 'rate_IR']\n",
    "tmp_ary = [['tra',     55_000,       10_000,        0.02,      0.040],\n",
    "           ['trb',     16_500,       16_500,        0.05,      0.060],\n",
    "           ['trc',      9_000,        9_000,        0.08,      0.080]]\n",
    "astn.loan = DataFrame(tmp_ary, columns=tmp_col)\n",
    "\n",
    "loan = cf.Intlz_loan(idx, idx.loan,\n",
    "                     title = astn.loan.title,\n",
    "                     amt_ntnl = astn.loan.amt_ntnl,\n",
    "                     amt_ntnl_once = astn.loan.amt_ntnl_once,\n",
    "                     rate_fee = astn.loan.rate_fee,\n",
    "                     rate_IR = astn.loan.rate_IR)"
   ]
  },
  {
   "cell_type": "code",
   "execution_count": null,
   "metadata": {},
   "outputs": [],
   "source": []
  }
 ],
 "metadata": {
  "kernelspec": {
   "display_name": "Python 3",
   "language": "python",
   "name": "python3"
  },
  "language_info": {
   "codemirror_mode": {
    "name": "ipython",
    "version": 3
   },
   "file_extension": ".py",
   "mimetype": "text/x-python",
   "name": "python",
   "nbconvert_exporter": "python",
   "pygments_lexer": "ipython3",
   "version": "3.7.6"
  }
 },
 "nbformat": 4,
 "nbformat_minor": 4
}
