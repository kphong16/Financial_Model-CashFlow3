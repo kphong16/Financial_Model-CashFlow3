{
 "cells": [
  {
   "cell_type": "code",
   "execution_count": 1,
   "metadata": {},
   "outputs": [],
   "source": [
    "from IPython.display import display\n",
    "import pickle\n",
    "import pandas as pd\n",
    "from pandas import Series, DataFrame\n",
    "import numpy as np"
   ]
  },
  {
   "cell_type": "code",
   "execution_count": 2,
   "metadata": {},
   "outputs": [],
   "source": [
    "import cafle as cf\n",
    "from cafle.genfunc import rounding as R\n",
    "from cafle.genfunc import PY\n",
    "from cafle.genfunc import EmptyClass"
   ]
  },
  {
   "cell_type": "code",
   "execution_count": 3,
   "metadata": {},
   "outputs": [
    {
     "name": "stdout",
     "output_type": "stream",
     "text": [
      "40 200\n"
     ]
    }
   ],
   "source": [
    "pd.options.display.max_columns = 40\n",
    "pd.options.display.max_rows = 200\n",
    "print(pd.get_option(\"display.max_columns\"),\n",
    "      pd.get_option(\"display.max_rows\"))"
   ]
  },
  {
   "cell_type": "markdown",
   "metadata": {},
   "source": [
    "# Initial Setting"
   ]
  },
  {
   "cell_type": "code",
   "execution_count": 5,
   "metadata": {},
   "outputs": [],
   "source": [
    "astn = EmptyClass()"
   ]
  },
  {
   "cell_type": "markdown",
   "metadata": {},
   "source": [
    "# Input Index Data"
   ]
  },
  {
   "cell_type": "code",
   "execution_count": 6,
   "metadata": {},
   "outputs": [],
   "source": [
    "tmp_col = ['idxname', 'start', 'periods']\n",
    "tmp_ary = [['prjt',  '2021-12', 35],\n",
    "           ['cstrn', '2022-01', 23],\n",
    "           ['loan',  '2022-01', 29],\n",
    "           ['sales', '2022-01', 29]]\n",
    "astn.index = DataFrame(tmp_ary, columns=tmp_col)\n",
    "\n",
    "idx = cf.PrjtIndex(idxname = list(astn.index.idxname),\n",
    "                   start   = list(astn.index.start),\n",
    "                   periods = list(astn.index.periods + 1),\n",
    "                   freq    = 'M')"
   ]
  },
  {
   "cell_type": "markdown",
   "metadata": {},
   "source": [
    "# Input Financing Condition Data"
   ]
  },
  {
   "cell_type": "code",
   "execution_count": 7,
   "metadata": {},
   "outputs": [],
   "source": [
    "# Equity Data\n",
    "\n",
    "tmp_col = ['title', 'amt_ntnl', 'amt_intl']\n",
    "tmp_ary = [['equity',  1_300,     1_300]]\n",
    "astn.equity = DataFrame(tmp_ary, columns=tmp_col)\n",
    "\n",
    "equity = cf.Loan(idx,\n",
    "                 amt_ntnl = astn.equity.amt_ntnl[0],\n",
    "                 amt_intl = astn.equity.amt_intl[0])"
   ]
  },
  {
   "cell_type": "code",
   "execution_count": 10,
   "metadata": {},
   "outputs": [
    {
     "name": "stdout",
     "output_type": "stream",
     "text": [
      "## Financing Condition ##\n",
      "\n",
      "Total Equity amount:  1,300\n",
      "Total loan amount:   97,000\n",
      "  title   rnk amt_ntnl amt_intl rate_fee rate_IR\n",
      "0   tra  0.00   75,000   18,000     2.00    4.30\n",
      "1   trb  1.00   22,000   22,000     4.10    7.00\n",
      "Arangement fee rate: 2.0%\n",
      "Fee on bal Tr.A    : 0.5%\n"
     ]
    }
   ],
   "source": [
    "# Loan Data\n",
    "\n",
    "tmp_col = ['title', 'rnk', 'amt_ntnl', 'amt_intl', 'rate_fee', 'rate_IR']\n",
    "tmp_ary = [['tra',     0,     75_000,     18_000,      0.020,     0.043],\n",
    "           ['trb',     1,     22_000,     22_000,      0.041,     0.070]]\n",
    "astn.loan = DataFrame(tmp_ary, columns=tmp_col).sort_values(by=['rnk'])\n",
    "\n",
    "loan = cf.Intlz_loan(idx, idx.loan,\n",
    "                     title = astn.loan.title,\n",
    "                     rnk = astn.loan.rnk,\n",
    "                     amt_ntnl = astn.loan.amt_ntnl,\n",
    "                     amt_intl = astn.loan.amt_intl,\n",
    "                     rate_fee = astn.loan.rate_fee,\n",
    "                     rate_IR = astn.loan.rate_IR)\n",
    "\n",
    "loan.arng_fee = 0.02       # Fee on balance for Tr.A\n",
    "loan.feeonbal_tra = 0.002  # Arangement fee rate\n",
    "\n",
    "print(\"## Financing Condition ##\\n\")\n",
    "print(f\"Total Equity amount:{sum(astn.equity.amt_ntnl):>7,.0f}\")\n",
    "print(f\"Total loan amount:  {sum(astn.loan.amt_ntnl):>7,.0f}\")\n",
    "print(R(astn.loan, rate=['rate_fee', 'rate_IR']))\n",
    "print(f\"Arangement fee rate: {loan.arng_fee * 100:,.1f}%\")\n",
    "print(f\"Fee on bal Tr.A    : {loan.feeonbal_tra * 100:,.1f}%\")"
   ]
  },
  {
   "cell_type": "code",
   "execution_count": 11,
   "metadata": {},
   "outputs": [
    {
     "name": "stdout",
     "output_type": "stream",
     "text": [
      "allin_rate :  6.76%\n"
     ]
    }
   ],
   "source": [
    "fee_amt = sum(astn.loan.amt_ntnl * astn.loan.rate_fee)\n",
    "IR_amt = sum(astn.loan.amt_ntnl * astn.loan.rate_IR * 29 / 12)\n",
    "arng_amt = sum(astn.loan.amt_ntnl * loan.arng_fee)\n",
    "\n",
    "ttl_amt = fee_amt + IR_amt + arng_amt\n",
    "allin_rate = ttl_amt / sum(astn.loan.amt_ntnl) * 12 / 29\n",
    "\n",
    "print(f\"allin_rate : {allin_rate*100:>5.2f}%\")"
   ]
  },
  {
   "cell_type": "code",
   "execution_count": null,
   "metadata": {},
   "outputs": [],
   "source": []
  }
 ],
 "metadata": {
  "kernelspec": {
   "display_name": "Python 3",
   "language": "python",
   "name": "python3"
  },
  "language_info": {
   "codemirror_mode": {
    "name": "ipython",
    "version": 3
   },
   "file_extension": ".py",
   "mimetype": "text/x-python",
   "name": "python",
   "nbconvert_exporter": "python",
   "pygments_lexer": "ipython3",
   "version": "3.7.6"
  }
 },
 "nbformat": 4,
 "nbformat_minor": 4
}
