{
 "cells": [
  {
   "cell_type": "code",
   "execution_count": 8,
   "metadata": {},
   "outputs": [],
   "source": [
    "import pandas as pd"
   ]
  },
  {
   "cell_type": "code",
   "execution_count": 21,
   "metadata": {},
   "outputs": [
    {
     "name": "stdout",
     "output_type": "stream",
     "text": [
      "allin:  6.781\n"
     ]
    }
   ],
   "source": [
    "mtrt = 29\n",
    "loan = pd.DataFrame({'ntnl':[670, 200, 100], 'fee':[0.015, 0.035, 0.070], 'IR':[0.040, 0.060, 0.090]})\n",
    "arngrate = 0.02\n",
    "\n",
    "feeamt = sum(loan.ntnl * loan.fee)\n",
    "IRamt = sum(loan.ntnl * loan.IR)\n",
    "arngamt = sum(loan.ntnl) * arngrate\n",
    "\n",
    "ttlamt = feeamt + arngamt + (IRamt * mtrt / 12)\n",
    "allin = ttlamt / sum(loan.ntnl) / mtrt * 12\n",
    "\n",
    "print(f\"allin: {allin*100:>6,.3f}\")"
   ]
  },
  {
   "cell_type": "code",
   "execution_count": 22,
   "metadata": {},
   "outputs": [
    {
     "name": "stdout",
     "output_type": "stream",
     "text": [
      "allin:  6.765\n"
     ]
    }
   ],
   "source": [
    "mtrt = 29\n",
    "loan = pd.DataFrame({'ntnl':[750, 220], 'fee':[0.020, 0.041], 'IR':[0.043, 0.070]})\n",
    "arngrate = 0.02\n",
    "\n",
    "feeamt = sum(loan.ntnl * loan.fee)\n",
    "IRamt = sum(loan.ntnl * loan.IR)\n",
    "arngamt = sum(loan.ntnl) * arngrate\n",
    "\n",
    "ttlamt = feeamt + arngamt + (IRamt * mtrt / 12)\n",
    "allin = ttlamt / sum(loan.ntnl) / mtrt * 12\n",
    "\n",
    "print(f\"allin: {allin*100:>6,.3f}\")"
   ]
  },
  {
   "cell_type": "code",
   "execution_count": 11,
   "metadata": {},
   "outputs": [],
   "source": []
  },
  {
   "cell_type": "code",
   "execution_count": 12,
   "metadata": {},
   "outputs": [],
   "source": []
  },
  {
   "cell_type": "code",
   "execution_count": null,
   "metadata": {},
   "outputs": [],
   "source": []
  }
 ],
 "metadata": {
  "kernelspec": {
   "display_name": "Python 3",
   "language": "python",
   "name": "python3"
  },
  "language_info": {
   "codemirror_mode": {
    "name": "ipython",
    "version": 3
   },
   "file_extension": ".py",
   "mimetype": "text/x-python",
   "name": "python",
   "nbconvert_exporter": "python",
   "pygments_lexer": "ipython3",
   "version": "3.7.6"
  }
 },
 "nbformat": 4,
 "nbformat_minor": 4
}
