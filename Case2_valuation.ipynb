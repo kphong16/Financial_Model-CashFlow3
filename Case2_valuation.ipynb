{
 "cells": [
  {
   "cell_type": "code",
   "execution_count": 1,
   "metadata": {},
   "outputs": [],
   "source": [
    "import pickle\n",
    "import pandas as pd\n",
    "from pandas import Series, DataFrame\n",
    "import numpy as np\n",
    "from datetime import date\n",
    "from collections import namedtuple"
   ]
  },
  {
   "cell_type": "code",
   "execution_count": 2,
   "metadata": {},
   "outputs": [],
   "source": [
    "import cafle as cf\n",
    "from cafle.genfunc import rounding as R\n",
    "from cafle.genfunc import percent as P"
   ]
  },
  {
   "cell_type": "code",
   "execution_count": 3,
   "metadata": {},
   "outputs": [
    {
     "name": "stdout",
     "output_type": "stream",
     "text": [
      "40 200\n"
     ]
    }
   ],
   "source": [
    "pd.options.display.max_columns = 40\n",
    "pd.options.display.max_rows = 200\n",
    "print(pd.get_option(\"display.max_columns\"),\n",
    "      pd.get_option(\"display.max_rows\"))"
   ]
  },
  {
   "cell_type": "markdown",
   "metadata": {},
   "source": [
    "# Initial Setting"
   ]
  },
  {
   "cell_type": "code",
   "execution_count": 4,
   "metadata": {},
   "outputs": [],
   "source": [
    "# ctg = namedtuple('category', ['nml', 'cld'])"
   ]
  },
  {
   "cell_type": "code",
   "execution_count": 5,
   "metadata": {},
   "outputs": [],
   "source": [
    "def ctg(nml, cld):\n",
    "    idx = ['nml', 'cld']\n",
    "    return Series([nml, cld], index = idx)"
   ]
  },
  {
   "cell_type": "code",
   "execution_count": 6,
   "metadata": {},
   "outputs": [],
   "source": [
    "# Pickling Data\n",
    "with open(\"data/area.pickle\", \"rb\") as fr:\n",
    "    data_area = pickle.load(fr)\n",
    "areadf = data_area['areadf']"
   ]
  },
  {
   "cell_type": "code",
   "execution_count": 7,
   "metadata": {},
   "outputs": [],
   "source": [
    "# Call out the area data\n",
    "area_rent = areadf.loc[[x in data_area['rent_col'] for x in areadf.name]]\n",
    "area_rent = area_rent.area_py.groupby(areadf['floor']).sum()\n",
    "area_cld = round(area_rent[['b1', 'f1']].sum(), 2)\n",
    "area_nml = round(area_rent[['f2', 'f3', 'f4']].sum(), 2)"
   ]
  },
  {
   "cell_type": "markdown",
   "metadata": {},
   "source": [
    "# Valuation\n",
    "### 1) Assumption"
   ]
  },
  {
   "cell_type": "code",
   "execution_count": 8,
   "metadata": {},
   "outputs": [],
   "source": [
    "class Valuation:\n",
    "    def __init__(self, rent, mtnc, cap_rate, area, vcncy_rate, oprtg_rate, IR, RU=1_000_000):\n",
    "        self.rent = rent\n",
    "        self.mtnc = mtnc\n",
    "        self.cap_rate = cap_rate\n",
    "        self.area = area\n",
    "        self.vcncy_rate = vcncy_rate\n",
    "        self.oprtg_rate = oprtg_rate\n",
    "        self.IR = IR\n",
    "        self.RU = RU\n",
    "        \n",
    "        self.__intlz__()\n",
    "    \n",
    "    def __intlz__(self):\n",
    "        self.dpst_amt = self.rent * 10 * self.area / self.RU # deposit amount\n",
    "        self.rent_amt = self.rent * 12 * self.area / self.RU # yearly rent amount\n",
    "        self.mtnc_amt = self.mtnc * 12 * self.area / self.RU # yearly maintenance cost\n",
    "        \n",
    "        self.PGI = (self.dpst_amt * self.IR) + self.rent_amt + self.mtnc_amt\n",
    "        self.EGI = self.PGI * (1 - self.vcncy_rate)\n",
    "        self.oprtg_cst = self.PGI * self.oprtg_rate\n",
    "        self.NOI = self.EGI - self.oprtg_cst\n",
    "        self.value = self.NOI / self.cap_rate\n",
    "        self.value_sum = self.value.sum()"
   ]
  },
  {
   "cell_type": "code",
   "execution_count": 57,
   "metadata": {},
   "outputs": [],
   "source": [
    "class Val_Mtrx:\n",
    "    def __init__(self, rent=None, mtnc=None, cap_rate=None, area=None, \n",
    "                 vcncy_rate=None, oprtg_rate=None, IR=None, RU=1_000_000):\n",
    "        self.rent = rent\n",
    "        self.mtnc = mtnc\n",
    "        self.cap_rate=cap_rate\n",
    "        self.area = area\n",
    "        self.vcncy_rate = vcncy_rate\n",
    "        self.oprtg_rate = oprtg_rate\n",
    "        self.IR = IR\n",
    "        self.RU = RU\n",
    "        \n",
    "    def value(self, rent=None, mtnc=None, cap_rate=None, area=None, \n",
    "                 vcncy_rate=None, oprtg_rate=None, IR=None):\n",
    "        keys = ['rent', 'mtnc', 'cap_rate', 'area', 'vcncy_rate', 'oprtg_rate', 'IR']\n",
    "        dct = {}\n",
    "        for key in keys:\n",
    "            if locals()[key] is not None:\n",
    "                tmp_val = locals()[key]\n",
    "            else:\n",
    "                tmp_val = getattr(self, key)\n",
    "            dct['tmp_'+key] = tmp_val\n",
    "            \n",
    "        tmpistnc = Valuation(rent = dct['tmp_rent'],\n",
    "                             mtnc = dct['tmp_mtnc'],\n",
    "                             cap_rate = dct['tmp_cap_rate'],\n",
    "                             area = dct['tmp_area'],\n",
    "                             vcncy_rate = dct['tmp_vcncy_rate'],\n",
    "                             oprtg_rate = dct['tmp_oprtg_rate'],\n",
    "                             IR = dct['tmp_IR'])\n",
    "        return tmpistnc\n",
    "    "
   ]
  },
  {
   "cell_type": "code",
   "execution_count": 58,
   "metadata": {},
   "outputs": [],
   "source": [
    "val_mtrx = Val_Mtrx(mtnc = ctg(2_000, 2_000),\n",
    "                    area = ctg(area_nml, area_cld),\n",
    "                    vcncy_rate = ctg(0.0, 0.0),\n",
    "                    oprtg_rate = P(14.5),\n",
    "                    IR = P(1.0))"
   ]
  },
  {
   "cell_type": "code",
   "execution_count": 59,
   "metadata": {},
   "outputs": [],
   "source": [
    "val = val_mtrx.value(rent = ctg(20_000, 44_000),\n",
    "                     cap_rate = ctg(P(4.5), P(5.0)))"
   ]
  },
  {
   "cell_type": "code",
   "execution_count": null,
   "metadata": {},
   "outputs": [],
   "source": []
  },
  {
   "cell_type": "code",
   "execution_count": null,
   "metadata": {},
   "outputs": [],
   "source": []
  },
  {
   "cell_type": "code",
   "execution_count": null,
   "metadata": {},
   "outputs": [],
   "source": []
  },
  {
   "cell_type": "code",
   "execution_count": 38,
   "metadata": {},
   "outputs": [
    {
     "ename": "NameError",
     "evalue": "name 'tmp_mtnc' is not defined",
     "output_type": "error",
     "traceback": [
      "\u001b[0;31m---------------------------------------------------------------------------\u001b[0m",
      "\u001b[0;31mNameError\u001b[0m                                 Traceback (most recent call last)",
      "\u001b[0;32m<ipython-input-38-0ee2d9a5558a>\u001b[0m in \u001b[0;36m<module>\u001b[0;34m\u001b[0m\n\u001b[0;32m----> 1\u001b[0;31m \u001b[0mtmp_mtnc\u001b[0m\u001b[0;34m\u001b[0m\u001b[0;34m\u001b[0m\u001b[0m\n\u001b[0m",
      "\u001b[0;31mNameError\u001b[0m: name 'tmp_mtnc' is not defined"
     ]
    }
   ],
   "source": [
    "tmp_mtnc"
   ]
  },
  {
   "cell_type": "code",
   "execution_count": null,
   "metadata": {},
   "outputs": [],
   "source": []
  },
  {
   "cell_type": "code",
   "execution_count": null,
   "metadata": {},
   "outputs": [],
   "source": []
  },
  {
   "cell_type": "code",
   "execution_count": null,
   "metadata": {},
   "outputs": [],
   "source": []
  },
  {
   "cell_type": "code",
   "execution_count": 245,
   "metadata": {},
   "outputs": [
    {
     "data": {
      "text/plain": [
       "{'rent': nml    20000\n",
       " cld    44000\n",
       " dtype: int64,\n",
       " 'mtnc': nml    2000\n",
       " cld    2000\n",
       " dtype: int64,\n",
       " 'cap_rate': nml    0.045\n",
       " cld    0.049\n",
       " dtype: float64,\n",
       " 'area': nml    8081.72\n",
       " cld    6619.06\n",
       " dtype: float64,\n",
       " 'vcncy_rate': nml    0.0\n",
       " cld    0.0\n",
       " dtype: float64,\n",
       " 'oprtg_rate': 0.145,\n",
       " 'IR': 0.01,\n",
       " 'RU': 1000000,\n",
       " 'dpst_amt': nml    1616.3440\n",
       " cld    2912.3864\n",
       " dtype: float64,\n",
       " 'rent_amt': nml    1939.61280\n",
       " cld    3494.86368\n",
       " dtype: float64,\n",
       " 'mtnc_amt': nml    193.96128\n",
       " cld    158.85744\n",
       " dtype: float64,\n",
       " 'PGI': nml    2149.737520\n",
       " cld    3682.844984\n",
       " dtype: float64,\n",
       " 'EGI': nml    2149.737520\n",
       " cld    3682.844984\n",
       " dtype: float64,\n",
       " 'oprtg_cst': nml    311.711940\n",
       " cld    534.012523\n",
       " dtype: float64,\n",
       " 'NOI': nml    1838.025580\n",
       " cld    3148.832461\n",
       " dtype: float64,\n",
       " 'value': nml    40845.012880\n",
       " cld    64261.886966\n",
       " dtype: float64,\n",
       " 'value_sum': 105106.89984571429}"
      ]
     },
     "execution_count": 245,
     "metadata": {},
     "output_type": "execute_result"
    }
   ],
   "source": [
    "k = abc.value(rent=ctg(20_000, 44_000))\n",
    "k.__dict__"
   ]
  },
  {
   "cell_type": "code",
   "execution_count": null,
   "metadata": {},
   "outputs": [],
   "source": []
  },
  {
   "cell_type": "code",
   "execution_count": 167,
   "metadata": {},
   "outputs": [],
   "source": [
    "def value(rent_val, cap_rate):\n",
    "    tmpistnc = Valuation(rent = rent_val,\n",
    "                       mtnc = ctg(2_000, 2_000),\n",
    "                       cap_rate = cap_rate,\n",
    "                       area = ctg(area_nml, area_cld),\n",
    "                       vcncy_rate = ctg(0.0, 0.0),\n",
    "                       oprtg_rate = P(14.5),\n",
    "                       IR = P(1.0))\n",
    "    return tmpistnc\n",
    "\n",
    "def value_to_df(value:Valuation): # <- valuation instance를 인자로 받음\n",
    "    tmp_dct = {}\n",
    "    for key in val_keys:\n",
    "        tmp_dct[key] = getattr(value, key)\n",
    "    return DataFrame(tmp_dct)"
   ]
  },
  {
   "cell_type": "code",
   "execution_count": null,
   "metadata": {},
   "outputs": [],
   "source": []
  },
  {
   "cell_type": "code",
   "execution_count": 158,
   "metadata": {},
   "outputs": [],
   "source": [
    "def value_dict(rent_val:dict, cap_rate:dict):\n",
    "    tmpdict = {}\n",
    "    for case_key, case_val in rent_case.items():\n",
    "        for cap_key, cap_val in cap_rate.items():\n",
    "            tmpdict[case_key + \"_\" + cap_key] = value(case_val, cap_val)\n",
    "    return tmpdict"
   ]
  },
  {
   "cell_type": "code",
   "execution_count": null,
   "metadata": {},
   "outputs": [],
   "source": []
  },
  {
   "cell_type": "code",
   "execution_count": 138,
   "metadata": {},
   "outputs": [],
   "source": [
    "rent_case = {'case1': ctg(20_000, 44_000), # unit rent\n",
    "             'case2': ctg(21_000, 46_000),\n",
    "             'case3': ctg(22_000, 48_000),\n",
    "             'case4': ctg(23_000, 50_000)}\n",
    "cap_rate = {'cap1': ctg(P(4.3), P(4.8)),\n",
    "            'cap2': ctg(P(4.4), P(4.9)),\n",
    "            'cap3': ctg(P(4.5), P(5.0))}\n",
    "val_dict = value_dict(rent_case, cap_rate)"
   ]
  },
  {
   "cell_type": "code",
   "execution_count": 159,
   "metadata": {},
   "outputs": [],
   "source": [
    "val_keys = ['rent', 'mtnc', 'cap_rate', 'area','vcncy_rate', 'dpst_amt', \n",
    "           'rent_amt', 'mtnc_amt', 'PGI', 'EGI', 'oprtg_cst', 'NOI', 'value']\n"
   ]
  },
  {
   "cell_type": "code",
   "execution_count": null,
   "metadata": {},
   "outputs": [],
   "source": []
  },
  {
   "cell_type": "code",
   "execution_count": null,
   "metadata": {},
   "outputs": [],
   "source": []
  },
  {
   "cell_type": "code",
   "execution_count": null,
   "metadata": {},
   "outputs": [],
   "source": []
  },
  {
   "cell_type": "code",
   "execution_count": 152,
   "metadata": {},
   "outputs": [
    {
     "data": {
      "text/plain": [
       "nml    311.711940\n",
       "cld    534.012523\n",
       "dtype: float64"
      ]
     },
     "execution_count": 152,
     "metadata": {},
     "output_type": "execute_result"
    }
   ],
   "source": [
    "val_dict['case1_cap1'].oprtg_cst"
   ]
  },
  {
   "cell_type": "code",
   "execution_count": 147,
   "metadata": {},
   "outputs": [
    {
     "data": {
      "text/html": [
       "<div>\n",
       "<style scoped>\n",
       "    .dataframe tbody tr th:only-of-type {\n",
       "        vertical-align: middle;\n",
       "    }\n",
       "\n",
       "    .dataframe tbody tr th {\n",
       "        vertical-align: top;\n",
       "    }\n",
       "\n",
       "    .dataframe thead th {\n",
       "        text-align: right;\n",
       "    }\n",
       "</style>\n",
       "<table border=\"1\" class=\"dataframe\">\n",
       "  <thead>\n",
       "    <tr style=\"text-align: right;\">\n",
       "      <th></th>\n",
       "      <th>rent</th>\n",
       "      <th>mtnc</th>\n",
       "    </tr>\n",
       "  </thead>\n",
       "  <tbody>\n",
       "    <tr>\n",
       "      <th>nml</th>\n",
       "      <td>20000</td>\n",
       "      <td>2000</td>\n",
       "    </tr>\n",
       "    <tr>\n",
       "      <th>cld</th>\n",
       "      <td>44000</td>\n",
       "      <td>2000</td>\n",
       "    </tr>\n",
       "  </tbody>\n",
       "</table>\n",
       "</div>"
      ],
      "text/plain": [
       "      rent  mtnc\n",
       "nml  20000  2000\n",
       "cld  44000  2000"
      ]
     },
     "execution_count": 147,
     "metadata": {},
     "output_type": "execute_result"
    }
   ],
   "source": [
    "DataFrame({'rent':getattr(val_dict['case1_cap1'], 'rent'), \n",
    " 'mtnc':getattr(val_dict['case1_cap1'], 'mtnc')})"
   ]
  },
  {
   "cell_type": "code",
   "execution_count": null,
   "metadata": {},
   "outputs": [],
   "source": []
  },
  {
   "cell_type": "code",
   "execution_count": null,
   "metadata": {},
   "outputs": [],
   "source": []
  },
  {
   "cell_type": "code",
   "execution_count": 128,
   "metadata": {},
   "outputs": [],
   "source": [
    "rent_case = {'case1': ctg(20_000, 44_000), # unit rent\n",
    "        'case2': ctg(21_000, 46_000),\n",
    "        'case3': ctg(22_000, 48_000),\n",
    "        'case4': ctg(23_000, 50_000)}\n",
    "cap_rate = [P(4.5), P(4.7), P(4.9), P(5.1)]\n",
    "tmpdict = {}\n",
    "for case in rent_case:\n",
    "    for cap in cap_rate:\n",
    "        tmpdict[case + \"_\" + str(cap*100)] = value(ctg(23_000, 50_000), cap)\n",
    "val_dict = tmpdict"
   ]
  },
  {
   "cell_type": "code",
   "execution_count": 130,
   "metadata": {},
   "outputs": [
    {
     "data": {
      "text/plain": [
       "dict_keys(['rent', 'mtnc', 'cap_rate', 'area', 'vcncy_rate', 'oprtg_rate', 'IR', 'RU', 'dpst_amt', 'rent_amt', 'mtnc_amt', 'PGI', 'EGI', 'oprtg_cst', 'NOI', 'value', 'value_sum'])"
      ]
     },
     "execution_count": 130,
     "metadata": {},
     "output_type": "execute_result"
    }
   ],
   "source": [
    "val_dict['case1_4.5'].__dict__.keys()"
   ]
  },
  {
   "cell_type": "code",
   "execution_count": 133,
   "metadata": {},
   "outputs": [
    {
     "data": {
      "text/plain": [
       "nml    48577.997265\n",
       "cld    71193.947454\n",
       "dtype: float64"
      ]
     },
     "execution_count": 133,
     "metadata": {},
     "output_type": "execute_result"
    }
   ],
   "source": [
    "val_dict['case1_4.5'].NOI / ctg(P(4.3), P(5.0))"
   ]
  },
  {
   "cell_type": "code",
   "execution_count": 134,
   "metadata": {},
   "outputs": [
    {
     "data": {
      "text/plain": [
       "nml    2088.853882\n",
       "cld    3559.697373\n",
       "dtype: float64"
      ]
     },
     "execution_count": 134,
     "metadata": {},
     "output_type": "execute_result"
    }
   ],
   "source": [
    "val_dict['case1_4.5'].NOI"
   ]
  },
  {
   "cell_type": "code",
   "execution_count": null,
   "metadata": {},
   "outputs": [],
   "source": []
  },
  {
   "cell_type": "code",
   "execution_count": null,
   "metadata": {},
   "outputs": [],
   "source": []
  },
  {
   "cell_type": "code",
   "execution_count": null,
   "metadata": {},
   "outputs": [],
   "source": []
  },
  {
   "cell_type": "code",
   "execution_count": null,
   "metadata": {},
   "outputs": [],
   "source": []
  },
  {
   "cell_type": "code",
   "execution_count": null,
   "metadata": {},
   "outputs": [],
   "source": []
  },
  {
   "cell_type": "code",
   "execution_count": null,
   "metadata": {},
   "outputs": [],
   "source": []
  },
  {
   "cell_type": "code",
   "execution_count": null,
   "metadata": {},
   "outputs": [],
   "source": []
  },
  {
   "cell_type": "code",
   "execution_count": 84,
   "metadata": {},
   "outputs": [
    {
     "data": {
      "text/plain": [
       "125523.36122400002"
      ]
     },
     "execution_count": 84,
     "metadata": {},
     "output_type": "execute_result"
    }
   ],
   "source": [
    "case1 = Valuation(rent = ctg(23_000, 50_000),\n",
    "                  mtnc = ctg(2_000, 2_000),\n",
    "                  cap_rate = P(4.5),\n",
    "                  area = ctg(area_nml, area_cld),\n",
    "                  vcncy_rate = ctg(0.0, 0.0),\n",
    "                  oprtg_rate = P(14.5),\n",
    "                  IR = P(1.0))\n",
    "\n",
    "case1.value_sum"
   ]
  },
  {
   "cell_type": "code",
   "execution_count": null,
   "metadata": {},
   "outputs": [],
   "source": []
  },
  {
   "cell_type": "code",
   "execution_count": null,
   "metadata": {},
   "outputs": [],
   "source": []
  },
  {
   "cell_type": "code",
   "execution_count": null,
   "metadata": {},
   "outputs": [],
   "source": []
  },
  {
   "cell_type": "code",
   "execution_count": 46,
   "metadata": {},
   "outputs": [],
   "source": [
    "RU = 1_000_000 # rounding unit\n",
    "rent = ctg(23_000, 50_000) # unit rent\n",
    "mtnc = ctg(2_000, 2_000) # unit maintenance cost\n",
    "cap_rate = [P(4.5), P(4.7), P(4.9), P(5.1)]\n",
    "area = ctg(area_nml, area_cld) # rent area\n",
    "vcncy_rate = ctg(0.0, 0.0) # vacancy rate\n",
    "oprtg_rate = P(14.5) # operating rate\n",
    "IR = P(1.0)"
   ]
  },
  {
   "cell_type": "code",
   "execution_count": 47,
   "metadata": {},
   "outputs": [],
   "source": [
    "dpst_amt = rent * 10 * area / RU # deposit amount\n",
    "rent_amt = rent * 12 * area / RU # yearly rent amount\n",
    "mtnc_amt = mtnc * 12 * area / RU # yearly maintenance cost"
   ]
  },
  {
   "cell_type": "code",
   "execution_count": 59,
   "metadata": {},
   "outputs": [],
   "source": [
    "PGI = (dpst_amt * IR) + rent_amt + mtnc_amt\n",
    "EGI = PGI * (1 - vcncy_rate)\n",
    "oprtg_cst = PGI * oprtg_rate\n",
    "NOI = EGI - oprtg_cst\n",
    "value = DataFrame({x : NOI / x for x in cap_rate})\n",
    "value_sum = DataFrame([value.sum()], index=['sum'])\n",
    "value_prt = value.append(value_sum)"
   ]
  },
  {
   "cell_type": "code",
   "execution_count": 61,
   "metadata": {},
   "outputs": [
    {
     "data": {
      "text/html": [
       "<div>\n",
       "<style scoped>\n",
       "    .dataframe tbody tr th:only-of-type {\n",
       "        vertical-align: middle;\n",
       "    }\n",
       "\n",
       "    .dataframe tbody tr th {\n",
       "        vertical-align: top;\n",
       "    }\n",
       "\n",
       "    .dataframe thead th {\n",
       "        text-align: right;\n",
       "    }\n",
       "</style>\n",
       "<table border=\"1\" class=\"dataframe\">\n",
       "  <thead>\n",
       "    <tr style=\"text-align: right;\">\n",
       "      <th></th>\n",
       "      <th>0.045</th>\n",
       "      <th>0.047</th>\n",
       "      <th>0.049</th>\n",
       "      <th>0.051</th>\n",
       "    </tr>\n",
       "  </thead>\n",
       "  <tbody>\n",
       "    <tr>\n",
       "      <th>nml</th>\n",
       "      <td>46418.975164</td>\n",
       "      <td>44443.699625</td>\n",
       "      <td>42629.671069</td>\n",
       "      <td>40957.919262</td>\n",
       "    </tr>\n",
       "    <tr>\n",
       "      <th>cld</th>\n",
       "      <td>79104.386060</td>\n",
       "      <td>75738.241972</td>\n",
       "      <td>72646.885157</td>\n",
       "      <td>69797.987700</td>\n",
       "    </tr>\n",
       "    <tr>\n",
       "      <th>sum</th>\n",
       "      <td>125523.361224</td>\n",
       "      <td>120181.941597</td>\n",
       "      <td>115276.556226</td>\n",
       "      <td>110755.906962</td>\n",
       "    </tr>\n",
       "  </tbody>\n",
       "</table>\n",
       "</div>"
      ],
      "text/plain": [
       "             0.045          0.047          0.049          0.051\n",
       "nml   46418.975164   44443.699625   42629.671069   40957.919262\n",
       "cld   79104.386060   75738.241972   72646.885157   69797.987700\n",
       "sum  125523.361224  120181.941597  115276.556226  110755.906962"
      ]
     },
     "execution_count": 61,
     "metadata": {},
     "output_type": "execute_result"
    }
   ],
   "source": [
    "value_prt"
   ]
  },
  {
   "cell_type": "code",
   "execution_count": null,
   "metadata": {},
   "outputs": [],
   "source": []
  },
  {
   "cell_type": "code",
   "execution_count": null,
   "metadata": {},
   "outputs": [],
   "source": []
  },
  {
   "cell_type": "code",
   "execution_count": 71,
   "metadata": {},
   "outputs": [],
   "source": [
    "RU = 1_000_000 # rounding unit\n",
    "rent = {'case1': ctg(20_000, 44_000), # unit rent\n",
    "        'case2': ctg(21_000, 46_000),\n",
    "        'case3': ctg(22_000, 48_000),\n",
    "        'case4': ctg(23_000, 50_000)}\n",
    "mtnc = ctg(2_000, 2_000) # unit maintenance cost\n",
    "cap_rate = [P(4.5), P(4.7), P(4.9), P(5.1)]\n",
    "area = ctg(area_nml, area_cld) # rent area\n",
    "vcncy_rate = ctg(0.0, 0.0) # vacancy rate\n",
    "oprtg_rate = P(14.5) # operating rate\n",
    "IR = P(1.0)"
   ]
  },
  {
   "cell_type": "code",
   "execution_count": null,
   "metadata": {},
   "outputs": [],
   "source": [
    "value_data = DataFrame(columns=['case', 'rent_nml', 'rent_cld', \n",
    "                                'mtnc_nml', 'mtnc_cld', 'cap_rate', \n",
    "                                'val_nml', 'val_cld', 'value'])\n",
    "for key, rent_item in rent.items():\n",
    "    tmp = {'case': key,\n",
    "           'rent_nml': rent_item.nml,\n",
    "           'rent_cld': rent_item.cld,\n",
    "           'mtnc_nml': mtnc.nml,\n",
    "           'mtnc_cld': mtnc.cld,\n",
    "           'cap_rate': cap_rate}"
   ]
  },
  {
   "cell_type": "code",
   "execution_count": 73,
   "metadata": {},
   "outputs": [],
   "source": [
    "value = DataFrame()\n",
    "for key, item in rent.items():\n",
    "    dpst_amt = item * 10 * area / RU # deposit amount\n",
    "    rent_amt = item * 12 * area / RU # yearly rent amount\n",
    "    mtnc_amt = mtnc * 12 * area / RU # yearly maintenance cost\n",
    "\n",
    "    PGI = (dpst_amt * IR) + rent_amt + mtnc_amt\n",
    "    EGI = PGI * (1 - vcncy_rate)\n",
    "    oprtg_cst = PGI * oprtg_rate\n",
    "    NOI = EGI - oprtg_cst\n",
    "    tmpdf = DataFrame({x : NOI / x for x in cap_rate})\n",
    "    value = value.append(tmpdf)\n",
    "    \n",
    "    \n",
    "    \n",
    "#value_sum = DataFrame([value.sum()], index=['sum'])\n",
    "#value_prt = value.append(value_sum)"
   ]
  },
  {
   "cell_type": "code",
   "execution_count": 74,
   "metadata": {},
   "outputs": [
    {
     "data": {
      "text/html": [
       "<div>\n",
       "<style scoped>\n",
       "    .dataframe tbody tr th:only-of-type {\n",
       "        vertical-align: middle;\n",
       "    }\n",
       "\n",
       "    .dataframe tbody tr th {\n",
       "        vertical-align: top;\n",
       "    }\n",
       "\n",
       "    .dataframe thead th {\n",
       "        text-align: right;\n",
       "    }\n",
       "</style>\n",
       "<table border=\"1\" class=\"dataframe\">\n",
       "  <thead>\n",
       "    <tr style=\"text-align: right;\">\n",
       "      <th></th>\n",
       "      <th>0.045</th>\n",
       "      <th>0.047</th>\n",
       "      <th>0.049</th>\n",
       "      <th>0.051</th>\n",
       "    </tr>\n",
       "  </thead>\n",
       "  <tbody>\n",
       "    <tr>\n",
       "      <th>nml</th>\n",
       "      <td>40845.012880</td>\n",
       "      <td>39106.927226</td>\n",
       "      <td>37510.726114</td>\n",
       "      <td>36039.717247</td>\n",
       "    </tr>\n",
       "    <tr>\n",
       "      <th>cld</th>\n",
       "      <td>69974.054696</td>\n",
       "      <td>66996.435347</td>\n",
       "      <td>64261.886966</td>\n",
       "      <td>61741.812967</td>\n",
       "    </tr>\n",
       "    <tr>\n",
       "      <th>nml</th>\n",
       "      <td>42703.000308</td>\n",
       "      <td>40885.851359</td>\n",
       "      <td>39217.041099</td>\n",
       "      <td>37679.117919</td>\n",
       "    </tr>\n",
       "    <tr>\n",
       "      <th>cld</th>\n",
       "      <td>73017.498484</td>\n",
       "      <td>69910.370889</td>\n",
       "      <td>67056.886363</td>\n",
       "      <td>64427.204545</td>\n",
       "    </tr>\n",
       "    <tr>\n",
       "      <th>nml</th>\n",
       "      <td>44560.987736</td>\n",
       "      <td>42664.775492</td>\n",
       "      <td>40923.356084</td>\n",
       "      <td>39318.518591</td>\n",
       "    </tr>\n",
       "    <tr>\n",
       "      <th>cld</th>\n",
       "      <td>76060.942272</td>\n",
       "      <td>72824.306431</td>\n",
       "      <td>69851.885760</td>\n",
       "      <td>67112.596122</td>\n",
       "    </tr>\n",
       "    <tr>\n",
       "      <th>nml</th>\n",
       "      <td>46418.975164</td>\n",
       "      <td>44443.699625</td>\n",
       "      <td>42629.671069</td>\n",
       "      <td>40957.919262</td>\n",
       "    </tr>\n",
       "    <tr>\n",
       "      <th>cld</th>\n",
       "      <td>79104.386060</td>\n",
       "      <td>75738.241972</td>\n",
       "      <td>72646.885157</td>\n",
       "      <td>69797.987700</td>\n",
       "    </tr>\n",
       "  </tbody>\n",
       "</table>\n",
       "</div>"
      ],
      "text/plain": [
       "            0.045         0.047         0.049         0.051\n",
       "nml  40845.012880  39106.927226  37510.726114  36039.717247\n",
       "cld  69974.054696  66996.435347  64261.886966  61741.812967\n",
       "nml  42703.000308  40885.851359  39217.041099  37679.117919\n",
       "cld  73017.498484  69910.370889  67056.886363  64427.204545\n",
       "nml  44560.987736  42664.775492  40923.356084  39318.518591\n",
       "cld  76060.942272  72824.306431  69851.885760  67112.596122\n",
       "nml  46418.975164  44443.699625  42629.671069  40957.919262\n",
       "cld  79104.386060  75738.241972  72646.885157  69797.987700"
      ]
     },
     "execution_count": 74,
     "metadata": {},
     "output_type": "execute_result"
    }
   ],
   "source": [
    "value"
   ]
  },
  {
   "cell_type": "code",
   "execution_count": 72,
   "metadata": {},
   "outputs": [
    {
     "data": {
      "text/plain": [
       "dict_items([('case1', nml    20000\n",
       "cld    44000\n",
       "dtype: int64), ('case2', nml    21000\n",
       "cld    46000\n",
       "dtype: int64), ('case3', nml    22000\n",
       "cld    48000\n",
       "dtype: int64), ('case4', nml    23000\n",
       "cld    50000\n",
       "dtype: int64)])"
      ]
     },
     "execution_count": 72,
     "metadata": {},
     "output_type": "execute_result"
    }
   ],
   "source": [
    "rent.items()"
   ]
  },
  {
   "cell_type": "code",
   "execution_count": null,
   "metadata": {},
   "outputs": [],
   "source": []
  }
 ],
 "metadata": {
  "kernelspec": {
   "display_name": "Python 3",
   "language": "python",
   "name": "python3"
  },
  "language_info": {
   "codemirror_mode": {
    "name": "ipython",
    "version": 3
   },
   "file_extension": ".py",
   "mimetype": "text/x-python",
   "name": "python",
   "nbconvert_exporter": "python",
   "pygments_lexer": "ipython3",
   "version": "3.7.6"
  }
 },
 "nbformat": 4,
 "nbformat_minor": 4
}
