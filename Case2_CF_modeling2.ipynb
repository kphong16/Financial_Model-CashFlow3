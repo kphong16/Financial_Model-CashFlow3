{
 "cells": [
  {
   "cell_type": "code",
   "execution_count": 1,
   "metadata": {},
   "outputs": [],
   "source": [
    "import pickle\n",
    "import pandas as pd\n",
    "from pandas import Series, DataFrame\n",
    "import numpy as np"
   ]
  },
  {
   "cell_type": "code",
   "execution_count": 2,
   "metadata": {},
   "outputs": [],
   "source": [
    "import cafle as cf\n",
    "from cafle.genfunc import rounding as R\n",
    "from cafle.genfunc import PY"
   ]
  },
  {
   "cell_type": "code",
   "execution_count": 3,
   "metadata": {},
   "outputs": [],
   "source": [
    "from mngmnt import mngmnt_v1 as mng"
   ]
  },
  {
   "cell_type": "code",
   "execution_count": 4,
   "metadata": {},
   "outputs": [
    {
     "name": "stdout",
     "output_type": "stream",
     "text": [
      "40 200\n"
     ]
    }
   ],
   "source": [
    "pd.options.display.max_columns = 40\n",
    "pd.options.display.max_rows = 200\n",
    "print(pd.get_option(\"display.max_columns\"), \n",
    "      pd.get_option(\"display.max_rows\"))"
   ]
  },
  {
   "cell_type": "markdown",
   "metadata": {},
   "source": [
    "# Introduction"
   ]
  },
  {
   "cell_type": "markdown",
   "metadata": {},
   "source": [
    "* Logistic center development"
   ]
  },
  {
   "cell_type": "markdown",
   "metadata": {},
   "source": [
    "# Initial Setting"
   ]
  },
  {
   "cell_type": "code",
   "execution_count": 5,
   "metadata": {},
   "outputs": [],
   "source": [
    "class EmptyClass:\n",
    "    def __init__(self):\n",
    "        pass\n",
    "    \n",
    "    def __getattr__(self, attr):\n",
    "        return self.__dict__[attr]\n",
    "    \n",
    "    def __getitem__(self, key):\n",
    "        return self.__dict__[key]\n",
    "\n",
    "astn = EmptyClass()"
   ]
  },
  {
   "cell_type": "markdown",
   "metadata": {},
   "source": [
    "# Input Index Data"
   ]
  },
  {
   "cell_type": "code",
   "execution_count": 6,
   "metadata": {},
   "outputs": [],
   "source": [
    "# Set period index\n",
    "# prjt index : total project periods and project base index\n",
    "# cstrn index : construction index\n",
    "# loan index : loan period index\n",
    "# sales index : sales period index\n",
    "\n",
    "tmp_col = ['idxname', 'start', 'periods']\n",
    "tmp_ary = [['prjt',  '2021-12', 30],\n",
    "           ['cstrn', '2022-01', 22],\n",
    "           ['loan',  '2022-01', 26],\n",
    "           ['sales', '2022-01', 26]]\n",
    "astn.index = DataFrame(tmp_ary, columns=tmp_col)\n",
    "\n",
    "idx = cf.PrjtIndex(idxname = list(astn.index.idxname),\n",
    "                   start   = list(astn.index.start),\n",
    "                   periods = list(astn.index.periods + 1),\n",
    "                   freq    = 'M')"
   ]
  },
  {
   "cell_type": "markdown",
   "metadata": {},
   "source": [
    "# Input Financing Condition Data"
   ]
  },
  {
   "cell_type": "code",
   "execution_count": 7,
   "metadata": {},
   "outputs": [],
   "source": [
    "tmp_col = ['title', 'amt_ntnl', 'amt_intl']\n",
    "tmp_ary = [['equity',  1_300,     1_300]]\n",
    "astn.equity = DataFrame(tmp_ary, columns=tmp_col)\n",
    "\n",
    "equity = cf.Loan(idx,\n",
    "                 amt_ntnl = astn.equity.amt_ntnl[0],\n",
    "                 amt_intl = astn.equity.amt_intl[0])"
   ]
  },
  {
   "cell_type": "code",
   "execution_count": 8,
   "metadata": {},
   "outputs": [],
   "source": [
    "tmp_col = ['title', 'amt_ntnl', 'amt_intl', 'rate_fee', 'rate_IR']\n",
    "tmp_ary = [['tra',    65_000,     15_000,      0.015,     0.040],\n",
    "           ['trb',    20_000,     20_000,      0.035,     0.060],\n",
    "           ['trc',     5_000,      5_000,      0.070,     0.090]]\n",
    "astn.loan = DataFrame(tmp_ary, columns=tmp_col)\n",
    "\n",
    "loan = cf.Intlz_loan(idx, idx.loan,\n",
    "                     title = astn.loan.title,\n",
    "                     amt_ntnl = astn.loan.amt_ntnl,\n",
    "                     amt_intl = astn.loan.amt_intl,\n",
    "                     rate_fee = astn.loan.rate_fee,\n",
    "                     rate_IR = astn.loan.rate_IR)"
   ]
  },
  {
   "cell_type": "markdown",
   "metadata": {},
   "source": [
    "# Input Sales Data"
   ]
  },
  {
   "cell_type": "code",
   "execution_count": 9,
   "metadata": {},
   "outputs": [],
   "source": [
    "# Pickling Data\n",
    "with open(\"data/valuation.pickle\", \"rb\") as fr:\n",
    "    data_valuation = pickle.load(fr)\n",
    "valuation = data_valuation['valuation_pivot']\n",
    "value = valuation.loc[[('23,000', '50,000')]].values[0]"
   ]
  },
  {
   "cell_type": "markdown",
   "metadata": {},
   "source": [
    "# Input Cost Data\n",
    "### 1) Set Cost Class"
   ]
  },
  {
   "cell_type": "code",
   "execution_count": 10,
   "metadata": {},
   "outputs": [],
   "source": [
    "astnc = EmptyClass()\n",
    "astnc.dct = {}\n",
    "astnc.amt = {}\n",
    "astnc.byname = {}"
   ]
  },
  {
   "cell_type": "code",
   "execution_count": 11,
   "metadata": {},
   "outputs": [],
   "source": [
    "def inpt_cost_array(cost, title, scdd_ary=None):\n",
    "    cost_name = title[0]\n",
    "    cost_byname = title[1]\n",
    "    astnc.byname[cost_name] = cost_byname\n",
    "    astnc.dct[cost_name] = None\n",
    "    astnc.amt[cost_name] = 0\n",
    "    \n",
    "    if scdd_ary:\n",
    "        astnc.dct[cost_name] = DataFrame(scdd_ary, columns=['scddidx', 'scddamt'])\n",
    "        scddidx = astnc.dct[cost_name].scddidx\n",
    "        scddamt = astnc.dct[cost_name].scddamt\n",
    "        astnc.amt[cost_name] = astnc.dct[cost_name].scddamt.sum()\n",
    "    else:\n",
    "        scddidx = []\n",
    "        scddamt = []\n",
    "        \n",
    "    cost.inptcst(cost_name, scddidx, scddamt)\n",
    "    setattr(getattr(cost, cost_name), 'byname', cost_byname)"
   ]
  },
  {
   "cell_type": "code",
   "execution_count": 12,
   "metadata": {},
   "outputs": [],
   "source": [
    "cost = EmptyClass()"
   ]
  },
  {
   "cell_type": "markdown",
   "metadata": {},
   "source": [
    "### 2) Land Purchase Costs"
   ]
  },
  {
   "cell_type": "code",
   "execution_count": 13,
   "metadata": {},
   "outputs": [],
   "source": [
    "cost.lnd = mng.Intlz_costs(idx)"
   ]
  },
  {
   "cell_type": "code",
   "execution_count": 14,
   "metadata": {},
   "outputs": [],
   "source": [
    "title = ('prchs', '용지매입비') # land purchase costs\n",
    "tmp_ary = [[idx.locval(2021, 12),  1_000],\n",
    "           [idx.locval(2022,  1), 13_500]]\n",
    "inpt_cost_array(cost.lnd, title, tmp_ary)"
   ]
  },
  {
   "cell_type": "code",
   "execution_count": 15,
   "metadata": {},
   "outputs": [],
   "source": [
    "title = ('brkrg', '부동산중개비용') # land brokerage fee\n",
    "tmp_ary = [[idx.locval(2021, 12), 39],\n",
    "           [idx.locval(2022,  1), 91]]\n",
    "inpt_cost_array(cost.lnd, title, tmp_ary)"
   ]
  },
  {
   "cell_type": "code",
   "execution_count": 16,
   "metadata": {},
   "outputs": [],
   "source": [
    "title = ('tax_aqstn', '취등록세') # land acquisition and registration tax, \n",
    "tmp_ary = [[idx.locval(2022, 1), 675]]\n",
    "# 토지매매대금 x 취득세 4.0%, 농특세 0.2%, 교육세 0.4%\n",
    "inpt_cost_array(cost.lnd, title, tmp_ary)"
   ]
  },
  {
   "cell_type": "code",
   "execution_count": 17,
   "metadata": {},
   "outputs": [],
   "source": [
    "title = ('nhbond', '국민주택채권') # national housing bond\n",
    "tmp_ary = [[idx.locval(2022, 1), 36]]\n",
    "# 토지매매대금 x 매입률 4.5% x 본인부담율 5.5%\n",
    "inpt_cost_array(cost.lnd, title, tmp_ary)"
   ]
  },
  {
   "cell_type": "code",
   "execution_count": 18,
   "metadata": {},
   "outputs": [],
   "source": [
    "title = ('jdclcst', '법무사비용') # judicial scrivener cost\n",
    "tmp_ary = [[idx.locval(2021, 12), 15]]\n",
    "# 토지매매대금 x 0.1%\n",
    "inpt_cost_array(cost.lnd, title, tmp_ary)"
   ]
  },
  {
   "cell_type": "markdown",
   "metadata": {},
   "source": [
    "### 3) Construction Costs"
   ]
  },
  {
   "cell_type": "code",
   "execution_count": 19,
   "metadata": {},
   "outputs": [],
   "source": [
    "cost.cstrn = mng.Intlz_costs(idx)"
   ]
  },
  {
   "cell_type": "code",
   "execution_count": 20,
   "metadata": {},
   "outputs": [],
   "source": [
    "title = ('dmltn', '철거비') # demolition fee\n",
    "tmp_ary = [[idx.locval(2021, 12), 35],\n",
    "           [idx.locval(2022,  1), 1_180]]\n",
    "# 3,550평 x 342천원, 온천공 폐공공사 포함\n",
    "inpt_cost_array(cost.cstrn, title, tmp_ary)"
   ]
  },
  {
   "cell_type": "code",
   "execution_count": 21,
   "metadata": {},
   "outputs": [],
   "source": [
    "title = ('civil', '토목공사') # civil engineering\n",
    "tmp_ary = [[idx.locval(2022,  1),   849],\n",
    "           [idx.locval(2022,  2), 3_396],\n",
    "           [idx.locval(2022,  3), 4_245]]\n",
    "# 16,327평 x 520천원\n",
    "inpt_cost_array(cost.cstrn, title, tmp_ary)"
   ]
  },
  {
   "cell_type": "code",
   "execution_count": 22,
   "metadata": {},
   "outputs": [],
   "source": [
    "title = ('nml_fclt', '상온시설') # normal temperature facilities construction\n",
    "ttl_amt = 27_932 # 9,311평 x 3,000천원\n",
    "tmp_idx = idx.cstrn.index\n",
    "tmp_len = len(idx.cstrn)\n",
    "tmp_ary = [[x, ttl_amt / tmp_len] for x in tmp_idx]\n",
    "inpt_cost_array(cost.cstrn, title, tmp_ary)"
   ]
  },
  {
   "cell_type": "code",
   "execution_count": 23,
   "metadata": {},
   "outputs": [],
   "source": [
    "title = ('cld_fclt', '저온시설') # cold temperature facilities construction\n",
    "ttl_amt = 33_461 # 8,365평 x 4,000천원\n",
    "tmp_idx = idx.cstrn.index\n",
    "tmp_len = len(idx.cstrn)\n",
    "tmp_ary = [[x, ttl_amt / tmp_len] for x in tmp_idx]\n",
    "inpt_cost_array(cost.cstrn, title, tmp_ary)"
   ]
  },
  {
   "cell_type": "markdown",
   "metadata": {},
   "source": [
    "### 4) Indirect Construction Costs"
   ]
  },
  {
   "cell_type": "code",
   "execution_count": 24,
   "metadata": {},
   "outputs": [],
   "source": [
    "cost.cstrnidrt = mng.Intlz_costs(idx)"
   ]
  },
  {
   "cell_type": "code",
   "execution_count": 25,
   "metadata": {},
   "outputs": [],
   "source": [
    "title = ('wtrelec', '각종인입비') # water supply, electricity etc.\n",
    "tmp_ary = [[idx.locval(2023, 10), 980]]\n",
    "inpt_cost_array(cost.cstrnidrt, title, tmp_ary)"
   ]
  },
  {
   "cell_type": "code",
   "execution_count": 26,
   "metadata": {},
   "outputs": [],
   "source": [
    "title = ('wsctbn', '상수도분담금') # water and sewage contribution\n",
    "tmp_ary = [[idx.locval(2023, 10), 163]]\n",
    "inpt_cost_array(cost.cstrnidrt, title, tmp_ary)"
   ]
  },
  {
   "cell_type": "code",
   "execution_count": 27,
   "metadata": {},
   "outputs": [],
   "source": [
    "title = ('dsgncst', '설계비') # design cost\n",
    "tmp_ary = [[idx.locval(2021, 12), 624]]\n",
    "# 16,327평 x 38천원\n",
    "inpt_cost_array(cost.cstrnidrt, title, tmp_ary)"
   ]
  },
  {
   "cell_type": "code",
   "execution_count": 28,
   "metadata": {},
   "outputs": [],
   "source": [
    "title = ('lcnscst', '인허가비용') # license cost\n",
    "tmp_ary = [[idx.locval(2021, 12), 528]]\n",
    "# 일식\n",
    "inpt_cost_array(cost.cstrnidrt, title, tmp_ary)"
   ]
  },
  {
   "cell_type": "code",
   "execution_count": 29,
   "metadata": {},
   "outputs": [],
   "source": [
    "title = ('spvsn', '감리비') # supervision cost\n",
    "ttl_amt = 490 # 16,327평 x 30천원, 월별 분할 부과\n",
    "tmp_idx = idx.cstrn.index\n",
    "tmp_len = len(idx.cstrn)\n",
    "tmp_ary = [[x, ttl_amt / tmp_len] for x in tmp_idx]\n",
    "inpt_cost_array(cost.cstrnidrt, title, tmp_ary)"
   ]
  },
  {
   "cell_type": "markdown",
   "metadata": {},
   "source": [
    "### 5) Marketing Costs"
   ]
  },
  {
   "cell_type": "code",
   "execution_count": 30,
   "metadata": {},
   "outputs": [],
   "source": [
    "cost.mrktg = mng.Intlz_costs(idx)"
   ]
  },
  {
   "cell_type": "code",
   "execution_count": 31,
   "metadata": {},
   "outputs": [],
   "source": [
    "title = ('rentagncy', '임대대행수수료') # rent agency cost\n",
    "tmp_ary = [[idx.locval(2024, 3), 517],\n",
    "           [idx.locval(2024, 4), 517],\n",
    "           [idx.locval(2024, 5), 517]]\n",
    "# 임대계약 실행시 월 임대료의 3개월치 지급\n",
    "# 1개월치 임대료 517백만원 가정\n",
    "inpt_cost_array(cost.mrktg, title, tmp_ary)"
   ]
  },
  {
   "cell_type": "code",
   "execution_count": 32,
   "metadata": {},
   "outputs": [],
   "source": [
    "title = ('salescsltg', '매각컨설팅수수료') # sales consulting fee\n",
    "tmp_ary = [[idx.locval(2023, 12), 967]]\n",
    "# 추정매각가 120_929백만원 x 0.80%\n",
    "inpt_cost_array(cost.mrktg, title, tmp_ary)"
   ]
  },
  {
   "cell_type": "code",
   "execution_count": 33,
   "metadata": {},
   "outputs": [],
   "source": [
    "title = ('advtsmnt', '광고홍보비') # advertisement and promotion cost\n",
    "tmp_ary = [[idx.locval(2022, 6), 250],\n",
    "           [idx.locval(2023, 6), 250]]\n",
    "inpt_cost_array(cost.mrktg, title, tmp_ary)"
   ]
  },
  {
   "cell_type": "markdown",
   "metadata": {},
   "source": [
    "### 6) Tax and Utility bills"
   ]
  },
  {
   "cell_type": "code",
   "execution_count": 34,
   "metadata": {},
   "outputs": [],
   "source": [
    "cost.taxutlty = mng.Intlz_costs(idx)"
   ]
  },
  {
   "cell_type": "code",
   "execution_count": 35,
   "metadata": {},
   "outputs": [],
   "source": [
    "title = ('prptytax', '재산세종부세') # property tax\n",
    "tmp_ary = [[idx.locval(2022, 6), 37],\n",
    "           [idx.locval(2023, 6), 37]]\n",
    "# 5,590 x 0.62% 2년\n",
    "inpt_cost_array(cost.taxutlty, title, tmp_ary)"
   ]
  },
  {
   "cell_type": "code",
   "execution_count": 36,
   "metadata": {},
   "outputs": [],
   "source": [
    "title = ('prsvtntax', '보존등기비') # Preservation registration fee\n",
    "tmp_ary = [[idx.cstrn.index[-1], 3_071]]\n",
    "# 건물 취득비용 x 3.40%(취득세 2.8%, 농특세 0.2%, 교육세 0.16%, 법무사 0.24%)\n",
    "inpt_cost_array(cost.taxutlty, title, tmp_ary)"
   ]
  },
  {
   "cell_type": "markdown",
   "metadata": {},
   "source": [
    "### 7) Additional Costs"
   ]
  },
  {
   "cell_type": "code",
   "execution_count": 37,
   "metadata": {},
   "outputs": [],
   "source": [
    "cost.addtnl = mng.Intlz_costs(idx)"
   ]
  },
  {
   "cell_type": "code",
   "execution_count": 38,
   "metadata": {},
   "outputs": [],
   "source": [
    "title = ('pmfee', 'PM수수료') # Additional expenses, PM fee\n",
    "tmp_ary = [[idx.locval(2021, 12), 200]]\n",
    "inpt_cost_array(cost.addtnl, title, tmp_ary)"
   ]
  },
  {
   "cell_type": "code",
   "execution_count": 39,
   "metadata": {},
   "outputs": [],
   "source": [
    "title = ('oprtgcst', '시행사운영비') # company operating cost\n",
    "unt_amt = 20 # 2,000만원/월\n",
    "tmp_idx = idx.loan.index\n",
    "tmp_ary = [[x, unt_amt] for x in tmp_idx]\n",
    "inpt_cost_array(cost.addtnl, title, tmp_ary)"
   ]
  },
  {
   "cell_type": "code",
   "execution_count": 40,
   "metadata": {},
   "outputs": [],
   "source": [
    "title = ('rsrvfund', '예비비') # reserve fund\n",
    "tmp_ary = [[idx.locval(2022, 6), 907],\n",
    "           [idx.locval(2023, 6), 907]]\n",
    "inpt_cost_array(cost.addtnl, title, tmp_ary)"
   ]
  },
  {
   "cell_type": "code",
   "execution_count": 41,
   "metadata": {},
   "outputs": [],
   "source": [
    "title = ('trustcst', '신탁수수료') # trust fee\n",
    "tmp_ary = [[idx.locval(2022, 1), 967]]\n",
    "inpt_cost_array(cost.addtnl, title, tmp_ary)"
   ]
  },
  {
   "cell_type": "code",
   "execution_count": 42,
   "metadata": {},
   "outputs": [],
   "source": [
    "title = ('csltgcst', '사평감평용역비') # consulting fee\n",
    "tmp_ary = [[idx.locval(2022, 1), 10],\n",
    "           [idx.locval(2022, 1), 140]]\n",
    "inpt_cost_array(cost.addtnl, title, tmp_ary)"
   ]
  },
  {
   "cell_type": "code",
   "execution_count": 43,
   "metadata": {},
   "outputs": [],
   "source": [
    "title = ('legalcst', '법률자문') # legal advice fee\n",
    "tmp_ary = [[idx.locval(2022, 1), 40]]\n",
    "inpt_cost_array(cost.addtnl, title, tmp_ary)"
   ]
  },
  {
   "cell_type": "markdown",
   "metadata": {},
   "source": [
    "### 8) Financing Costs"
   ]
  },
  {
   "cell_type": "code",
   "execution_count": 44,
   "metadata": {},
   "outputs": [],
   "source": [
    "cost.financing = mng.Intlz_costs(idx)"
   ]
  },
  {
   "cell_type": "code",
   "execution_count": 45,
   "metadata": {},
   "outputs": [],
   "source": [
    "title = ('arngmnt', '금융주관수수료') # financing arrangement fee\n",
    "tmp_rate = 0.02 #2.0%\n",
    "tmp_amt = sum(loan.amt_ntnl)\n",
    "tmp_ary = [[idx.locval(2022, 1), tmp_amt * tmp_rate]]\n",
    "inpt_cost_array(cost.financing, title, tmp_ary)"
   ]
  },
  {
   "cell_type": "code",
   "execution_count": 46,
   "metadata": {},
   "outputs": [],
   "source": [
    "title = ('spcoprtg', 'SPC유동화비용') # spc operating cost\n",
    "tmp_ary = [[idx.locval(2022, 1), 66]]\n",
    "inpt_cost_array(cost.financing, title, tmp_ary)"
   ]
  },
  {
   "cell_type": "code",
   "execution_count": 47,
   "metadata": {},
   "outputs": [],
   "source": [
    "title = ('agntbank', '대리금융기관') # agent banking fee\n",
    "tmp_ary = [[idx.locval(2022, 1), 30],\n",
    "           [idx.locval(2023, 1), 30]]\n",
    "inpt_cost_array(cost.financing, title, tmp_ary)"
   ]
  },
  {
   "cell_type": "markdown",
   "metadata": {},
   "source": [
    "# Execution Cash Flow"
   ]
  },
  {
   "cell_type": "code",
   "execution_count": 48,
   "metadata": {},
   "outputs": [],
   "source": [
    "acc = mng.Intlz_accounts(idx, ['oprtg', 'sales', 'repay'])"
   ]
  },
  {
   "cell_type": "code",
   "execution_count": 49,
   "metadata": {},
   "outputs": [],
   "source": [
    "# Execute cash flow\n",
    "for idxno in idx.index:\n",
    "    #### Loans : set loan withdrawble ####\n",
    "    # If it's initial date then set loan withdrawble.\n",
    "    equity.set_wtdrbl_intldate(idxno, idx[0])\n",
    "    loan.tra.set_wtdrbl_intldate(idxno)\n",
    "    loan.trb.set_wtdrbl_intldate(idxno)\n",
    "    loan.trc.set_wtdrbl_intldate(idxno)\n",
    "    \n",
    "    \n",
    "    #### Cash Inflow : cash inflow from sales or rent etc. ####\n",
    "    # None\n",
    "    \n",
    "    \n",
    "    #### Expected Costs: calculate expected costs ####\n",
    "    # calculate operating costs\n",
    "    mng_oprtgcst = {}\n",
    "    oprtg_cost = 0\n",
    "    for key, item in cost.__dict__.items():\n",
    "        mng_oprtgcst[key] = mng.Mngmnt_cst(idxno, item)\n",
    "        oprtg_cost += mng_oprtgcst[key].cst_oprtg\n",
    "            \n",
    "    # calculate financial costs\n",
    "    mng_fnclcst = {}\n",
    "    fncl_cost = 0\n",
    "    for trch, loan_each in loan.dct.items():\n",
    "        mng_fnclcst[trch] = mng.Mngmnt_fncl(idxno, loan_each)\n",
    "        fncl_cost += mng_fnclcst[trch].amt_scdd\n",
    "    \n",
    "    # total expected cost amount\n",
    "    cost_ttl = oprtg_cost + fncl_cost\n",
    "    \n",
    "    \n",
    "    #### Loans : withdraw loan ####\n",
    "    wtdrw = mng.Mngmnt_wtdrw(idxno, acc.oprtg)\n",
    "    wtdrw.cal_amt_exptd(cost_ttl) # 대출금 인출 필요금액 계산\n",
    "    \n",
    "    # withdraw equity\n",
    "    wtdrw.wtdrw_eqty(equity, equity.amt_intl)\n",
    "    \n",
    "    # withdraw loan amount\n",
    "    if idxno == idx.loan[0]: # initial loan amount\n",
    "        wtdrw.wtdrw_loan(loan.trc, loan.trc.amt_intl)\n",
    "        wtdrw.wtdrw_loan(loan.trb, loan.trb.amt_intl)\n",
    "        wtdrw.wtdrw_loan(loan.tra, loan.tra.amt_intl)\n",
    "    else:\n",
    "        wtdrw.wtdrw_loan(loan.trc)\n",
    "        wtdrw.wtdrw_loan(loan.trb)\n",
    "        wtdrw.wtdrw_loan(loan.tra)\n",
    "        \n",
    "        \n",
    "    #### Costs : 토지비, 공사비 등 각종 비용 지출 ####\n",
    "    for key, item in mng_oprtgcst.items():\n",
    "        item.pay_oprtgcst(acc.oprtg)\n",
    "        \n",
    "    \n",
    "    #### Loans : pay financial cost ####\n",
    "    mng_fnclcst['tra'].pay_all(acc.oprtg)\n",
    "    mng_fnclcst['trb'].pay_all(acc.oprtg)\n",
    "    mng_fnclcst['trc'].pay_all(acc.oprtg)\n",
    "    \n",
    "    \n",
    "    #### Loans : repay loan amount ####\n",
    "    rpymngA = mng.Mngmnt_repay(idxno, loan.tra, acc.oprtg, acc.repay)\n",
    "    rpymngA.repayment_process()\n",
    "    \n",
    "    if loan.tra.is_repaid:\n",
    "        rpymngB = mng.Mngmnt_repay(idxno, loan.trb, acc.oprtg, acc.repay)\n",
    "        rpymngB.repayment_process()\n",
    "    if loan.trb.is_repaid:\n",
    "        rpymngC = mng.Mngmnt_repay(idxno, loan.trc, acc.oprtg, acc.repay)\n",
    "        rpymngC.repayment_process()\n",
    "        \n",
    "    \n",
    "    #### Loans : Set back loan unwithdrawble at maturity ####\n",
    "    # If it was maturity date then set back loan unwithdrawble.\n",
    "    equity.setback_wtdrbl_mtrt(idxno)\n",
    "    loan.tra.setback_wtdrbl_mtrt(idxno)\n",
    "    loan.trb.setback_wtdrbl_mtrt(idxno)\n",
    "    loan.trc.setback_wtdrbl_mtrt(idxno)"
   ]
  },
  {
   "cell_type": "code",
   "execution_count": 54,
   "metadata": {},
   "outputs": [
    {
     "data": {
      "text/html": [
       "<div>\n",
       "<style scoped>\n",
       "    .dataframe tbody tr th:only-of-type {\n",
       "        vertical-align: middle;\n",
       "    }\n",
       "\n",
       "    .dataframe tbody tr th {\n",
       "        vertical-align: top;\n",
       "    }\n",
       "\n",
       "    .dataframe thead th {\n",
       "        text-align: right;\n",
       "    }\n",
       "</style>\n",
       "<table border=\"1\" class=\"dataframe\">\n",
       "  <thead>\n",
       "    <tr style=\"text-align: right;\">\n",
       "      <th></th>\n",
       "      <th>add_scdd</th>\n",
       "      <th>sub_scdd</th>\n",
       "      <th>bal_strt</th>\n",
       "      <th>amt_add</th>\n",
       "      <th>amt_sub</th>\n",
       "      <th>bal_end</th>\n",
       "    </tr>\n",
       "  </thead>\n",
       "  <tbody>\n",
       "    <tr>\n",
       "      <th>2021-12-31</th>\n",
       "      <td>0.0</td>\n",
       "      <td>0.0</td>\n",
       "      <td>0</td>\n",
       "      <td>1,300</td>\n",
       "      <td>2,441</td>\n",
       "      <td>-1,141</td>\n",
       "    </tr>\n",
       "    <tr>\n",
       "      <th>2022-01-31</th>\n",
       "      <td>0.0</td>\n",
       "      <td>0.0</td>\n",
       "      <td>-1,141</td>\n",
       "      <td>40,000</td>\n",
       "      <td>24,120</td>\n",
       "      <td>14,739</td>\n",
       "    </tr>\n",
       "    <tr>\n",
       "      <th>2022-02-28</th>\n",
       "      <td>0.0</td>\n",
       "      <td>0.0</td>\n",
       "      <td>14,739</td>\n",
       "      <td>0</td>\n",
       "      <td>6,294</td>\n",
       "      <td>8,445</td>\n",
       "    </tr>\n",
       "    <tr>\n",
       "      <th>2022-03-31</th>\n",
       "      <td>0.0</td>\n",
       "      <td>0.0</td>\n",
       "      <td>8,445</td>\n",
       "      <td>0</td>\n",
       "      <td>7,143</td>\n",
       "      <td>1,302</td>\n",
       "    </tr>\n",
       "    <tr>\n",
       "      <th>2022-04-30</th>\n",
       "      <td>0.0</td>\n",
       "      <td>0.0</td>\n",
       "      <td>1,302</td>\n",
       "      <td>1,600</td>\n",
       "      <td>2,898</td>\n",
       "      <td>4</td>\n",
       "    </tr>\n",
       "    <tr>\n",
       "      <th>2022-05-31</th>\n",
       "      <td>0.0</td>\n",
       "      <td>0.0</td>\n",
       "      <td>4</td>\n",
       "      <td>2,900</td>\n",
       "      <td>2,903</td>\n",
       "      <td>1</td>\n",
       "    </tr>\n",
       "    <tr>\n",
       "      <th>2022-06-30</th>\n",
       "      <td>0.0</td>\n",
       "      <td>0.0</td>\n",
       "      <td>1</td>\n",
       "      <td>4,200</td>\n",
       "      <td>4,107</td>\n",
       "      <td>94</td>\n",
       "    </tr>\n",
       "    <tr>\n",
       "      <th>2022-07-31</th>\n",
       "      <td>0.0</td>\n",
       "      <td>0.0</td>\n",
       "      <td>94</td>\n",
       "      <td>2,900</td>\n",
       "      <td>2,927</td>\n",
       "      <td>67</td>\n",
       "    </tr>\n",
       "    <tr>\n",
       "      <th>2022-08-31</th>\n",
       "      <td>0.0</td>\n",
       "      <td>0.0</td>\n",
       "      <td>67</td>\n",
       "      <td>2,900</td>\n",
       "      <td>2,937</td>\n",
       "      <td>30</td>\n",
       "    </tr>\n",
       "    <tr>\n",
       "      <th>2022-09-30</th>\n",
       "      <td>0.0</td>\n",
       "      <td>0.0</td>\n",
       "      <td>30</td>\n",
       "      <td>3,000</td>\n",
       "      <td>2,946</td>\n",
       "      <td>84</td>\n",
       "    </tr>\n",
       "    <tr>\n",
       "      <th>2022-10-31</th>\n",
       "      <td>0.0</td>\n",
       "      <td>0.0</td>\n",
       "      <td>84</td>\n",
       "      <td>2,900</td>\n",
       "      <td>2,956</td>\n",
       "      <td>27</td>\n",
       "    </tr>\n",
       "    <tr>\n",
       "      <th>2022-11-30</th>\n",
       "      <td>0.0</td>\n",
       "      <td>0.0</td>\n",
       "      <td>27</td>\n",
       "      <td>3,000</td>\n",
       "      <td>2,966</td>\n",
       "      <td>61</td>\n",
       "    </tr>\n",
       "    <tr>\n",
       "      <th>2022-12-31</th>\n",
       "      <td>0.0</td>\n",
       "      <td>0.0</td>\n",
       "      <td>61</td>\n",
       "      <td>3,000</td>\n",
       "      <td>2,976</td>\n",
       "      <td>85</td>\n",
       "    </tr>\n",
       "    <tr>\n",
       "      <th>2023-01-31</th>\n",
       "      <td>0.0</td>\n",
       "      <td>0.0</td>\n",
       "      <td>85</td>\n",
       "      <td>3,000</td>\n",
       "      <td>3,016</td>\n",
       "      <td>69</td>\n",
       "    </tr>\n",
       "    <tr>\n",
       "      <th>2023-02-28</th>\n",
       "      <td>0.0</td>\n",
       "      <td>0.0</td>\n",
       "      <td>69</td>\n",
       "      <td>3,000</td>\n",
       "      <td>2,996</td>\n",
       "      <td>73</td>\n",
       "    </tr>\n",
       "    <tr>\n",
       "      <th>2023-03-31</th>\n",
       "      <td>0.0</td>\n",
       "      <td>0.0</td>\n",
       "      <td>73</td>\n",
       "      <td>3,000</td>\n",
       "      <td>3,006</td>\n",
       "      <td>67</td>\n",
       "    </tr>\n",
       "    <tr>\n",
       "      <th>2023-04-30</th>\n",
       "      <td>0.0</td>\n",
       "      <td>0.0</td>\n",
       "      <td>67</td>\n",
       "      <td>3,000</td>\n",
       "      <td>3,016</td>\n",
       "      <td>51</td>\n",
       "    </tr>\n",
       "    <tr>\n",
       "      <th>2023-05-31</th>\n",
       "      <td>0.0</td>\n",
       "      <td>0.0</td>\n",
       "      <td>51</td>\n",
       "      <td>3,000</td>\n",
       "      <td>3,026</td>\n",
       "      <td>25</td>\n",
       "    </tr>\n",
       "    <tr>\n",
       "      <th>2023-06-30</th>\n",
       "      <td>0.0</td>\n",
       "      <td>0.0</td>\n",
       "      <td>25</td>\n",
       "      <td>4,300</td>\n",
       "      <td>4,230</td>\n",
       "      <td>95</td>\n",
       "    </tr>\n",
       "    <tr>\n",
       "      <th>2023-07-31</th>\n",
       "      <td>0.0</td>\n",
       "      <td>0.0</td>\n",
       "      <td>95</td>\n",
       "      <td>3,000</td>\n",
       "      <td>3,050</td>\n",
       "      <td>44</td>\n",
       "    </tr>\n",
       "    <tr>\n",
       "      <th>2023-08-31</th>\n",
       "      <td>0.0</td>\n",
       "      <td>0.0</td>\n",
       "      <td>44</td>\n",
       "      <td>1,300</td>\n",
       "      <td>3,060</td>\n",
       "      <td>-1,716</td>\n",
       "    </tr>\n",
       "    <tr>\n",
       "      <th>2023-09-30</th>\n",
       "      <td>0.0</td>\n",
       "      <td>0.0</td>\n",
       "      <td>-1,716</td>\n",
       "      <td>0</td>\n",
       "      <td>3,065</td>\n",
       "      <td>-4,781</td>\n",
       "    </tr>\n",
       "    <tr>\n",
       "      <th>2023-10-31</th>\n",
       "      <td>0.0</td>\n",
       "      <td>0.0</td>\n",
       "      <td>-4,781</td>\n",
       "      <td>0</td>\n",
       "      <td>4,208</td>\n",
       "      <td>-8,989</td>\n",
       "    </tr>\n",
       "    <tr>\n",
       "      <th>2023-11-30</th>\n",
       "      <td>0.0</td>\n",
       "      <td>0.0</td>\n",
       "      <td>-8,989</td>\n",
       "      <td>0</td>\n",
       "      <td>6,136</td>\n",
       "      <td>-15,124</td>\n",
       "    </tr>\n",
       "    <tr>\n",
       "      <th>2023-12-31</th>\n",
       "      <td>0.0</td>\n",
       "      <td>0.0</td>\n",
       "      <td>-15,124</td>\n",
       "      <td>0</td>\n",
       "      <td>1,341</td>\n",
       "      <td>-16,466</td>\n",
       "    </tr>\n",
       "    <tr>\n",
       "      <th>2024-01-31</th>\n",
       "      <td>0.0</td>\n",
       "      <td>0.0</td>\n",
       "      <td>-16,466</td>\n",
       "      <td>0</td>\n",
       "      <td>374</td>\n",
       "      <td>-16,840</td>\n",
       "    </tr>\n",
       "    <tr>\n",
       "      <th>2024-02-29</th>\n",
       "      <td>0.0</td>\n",
       "      <td>0.0</td>\n",
       "      <td>-16,840</td>\n",
       "      <td>0</td>\n",
       "      <td>374</td>\n",
       "      <td>-17,214</td>\n",
       "    </tr>\n",
       "    <tr>\n",
       "      <th>2024-03-31</th>\n",
       "      <td>0.0</td>\n",
       "      <td>0.0</td>\n",
       "      <td>-17,214</td>\n",
       "      <td>0</td>\n",
       "      <td>891</td>\n",
       "      <td>-18,105</td>\n",
       "    </tr>\n",
       "    <tr>\n",
       "      <th>2024-04-30</th>\n",
       "      <td>0.0</td>\n",
       "      <td>0.0</td>\n",
       "      <td>-18,105</td>\n",
       "      <td>0</td>\n",
       "      <td>517</td>\n",
       "      <td>-18,622</td>\n",
       "    </tr>\n",
       "    <tr>\n",
       "      <th>2024-05-31</th>\n",
       "      <td>0.0</td>\n",
       "      <td>0.0</td>\n",
       "      <td>-18,622</td>\n",
       "      <td>0</td>\n",
       "      <td>517</td>\n",
       "      <td>-19,139</td>\n",
       "    </tr>\n",
       "    <tr>\n",
       "      <th>2024-06-30</th>\n",
       "      <td>0.0</td>\n",
       "      <td>0.0</td>\n",
       "      <td>-19,139</td>\n",
       "      <td>0</td>\n",
       "      <td>0</td>\n",
       "      <td>-19,139</td>\n",
       "    </tr>\n",
       "  </tbody>\n",
       "</table>\n",
       "</div>"
      ],
      "text/plain": [
       "           add_scdd sub_scdd bal_strt amt_add amt_sub  bal_end\n",
       "2021-12-31      0.0      0.0        0   1,300   2,441   -1,141\n",
       "2022-01-31      0.0      0.0   -1,141  40,000  24,120   14,739\n",
       "2022-02-28      0.0      0.0   14,739       0   6,294    8,445\n",
       "2022-03-31      0.0      0.0    8,445       0   7,143    1,302\n",
       "2022-04-30      0.0      0.0    1,302   1,600   2,898        4\n",
       "2022-05-31      0.0      0.0        4   2,900   2,903        1\n",
       "2022-06-30      0.0      0.0        1   4,200   4,107       94\n",
       "2022-07-31      0.0      0.0       94   2,900   2,927       67\n",
       "2022-08-31      0.0      0.0       67   2,900   2,937       30\n",
       "2022-09-30      0.0      0.0       30   3,000   2,946       84\n",
       "2022-10-31      0.0      0.0       84   2,900   2,956       27\n",
       "2022-11-30      0.0      0.0       27   3,000   2,966       61\n",
       "2022-12-31      0.0      0.0       61   3,000   2,976       85\n",
       "2023-01-31      0.0      0.0       85   3,000   3,016       69\n",
       "2023-02-28      0.0      0.0       69   3,000   2,996       73\n",
       "2023-03-31      0.0      0.0       73   3,000   3,006       67\n",
       "2023-04-30      0.0      0.0       67   3,000   3,016       51\n",
       "2023-05-31      0.0      0.0       51   3,000   3,026       25\n",
       "2023-06-30      0.0      0.0       25   4,300   4,230       95\n",
       "2023-07-31      0.0      0.0       95   3,000   3,050       44\n",
       "2023-08-31      0.0      0.0       44   1,300   3,060   -1,716\n",
       "2023-09-30      0.0      0.0   -1,716       0   3,065   -4,781\n",
       "2023-10-31      0.0      0.0   -4,781       0   4,208   -8,989\n",
       "2023-11-30      0.0      0.0   -8,989       0   6,136  -15,124\n",
       "2023-12-31      0.0      0.0  -15,124       0   1,341  -16,466\n",
       "2024-01-31      0.0      0.0  -16,466       0     374  -16,840\n",
       "2024-02-29      0.0      0.0  -16,840       0     374  -17,214\n",
       "2024-03-31      0.0      0.0  -17,214       0     891  -18,105\n",
       "2024-04-30      0.0      0.0  -18,105       0     517  -18,622\n",
       "2024-05-31      0.0      0.0  -18,622       0     517  -19,139\n",
       "2024-06-30      0.0      0.0  -19,139       0       0  -19,139"
      ]
     },
     "execution_count": 54,
     "metadata": {},
     "output_type": "execute_result"
    }
   ],
   "source": [
    "R(acc.oprtg.df)"
   ]
  },
  {
   "cell_type": "code",
   "execution_count": 55,
   "metadata": {},
   "outputs": [
    {
     "data": {
      "text/html": [
       "<div>\n",
       "<style scoped>\n",
       "    .dataframe tbody tr th:only-of-type {\n",
       "        vertical-align: middle;\n",
       "    }\n",
       "\n",
       "    .dataframe tbody tr th {\n",
       "        vertical-align: top;\n",
       "    }\n",
       "\n",
       "    .dataframe thead th {\n",
       "        text-align: right;\n",
       "    }\n",
       "</style>\n",
       "<table border=\"1\" class=\"dataframe\">\n",
       "  <thead>\n",
       "    <tr style=\"text-align: right;\">\n",
       "      <th></th>\n",
       "      <th>amt_add</th>\n",
       "      <th>amt_sub</th>\n",
       "      <th>rcvfrom</th>\n",
       "      <th>payto</th>\n",
       "      <th>note</th>\n",
       "    </tr>\n",
       "  </thead>\n",
       "  <tbody>\n",
       "    <tr>\n",
       "      <th>2021-12-31</th>\n",
       "      <td>1000.0</td>\n",
       "      <td>0</td>\n",
       "      <td>[oprtg, sales, repay]</td>\n",
       "      <td>None</td>\n",
       "      <td>None</td>\n",
       "    </tr>\n",
       "    <tr>\n",
       "      <th>2022-01-31</th>\n",
       "      <td>13500.0</td>\n",
       "      <td>0</td>\n",
       "      <td>[oprtg, sales, repay]</td>\n",
       "      <td>None</td>\n",
       "      <td>None</td>\n",
       "    </tr>\n",
       "  </tbody>\n",
       "</table>\n",
       "</div>"
      ],
      "text/plain": [
       "            amt_add amt_sub                rcvfrom payto  note\n",
       "2021-12-31   1000.0       0  [oprtg, sales, repay]  None  None\n",
       "2022-01-31  13500.0       0  [oprtg, sales, repay]  None  None"
      ]
     },
     "execution_count": 55,
     "metadata": {},
     "output_type": "execute_result"
    }
   ],
   "source": [
    "cost.lnd.prchs.jnl"
   ]
  },
  {
   "cell_type": "code",
   "execution_count": null,
   "metadata": {},
   "outputs": [],
   "source": []
  }
 ],
 "metadata": {
  "kernelspec": {
   "display_name": "Python 3",
   "language": "python",
   "name": "python3"
  },
  "language_info": {
   "codemirror_mode": {
    "name": "ipython",
    "version": 3
   },
   "file_extension": ".py",
   "mimetype": "text/x-python",
   "name": "python",
   "nbconvert_exporter": "python",
   "pygments_lexer": "ipython3",
   "version": "3.7.6"
  }
 },
 "nbformat": 4,
 "nbformat_minor": 4
}
